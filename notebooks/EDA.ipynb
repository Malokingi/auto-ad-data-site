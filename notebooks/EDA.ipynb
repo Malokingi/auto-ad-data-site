{
 "cells": [
  {
   "cell_type": "code",
   "execution_count": null,
   "metadata": {},
   "outputs": [],
   "source": [
    "import streamlit as sl\n",
    "import pandas as pd\n",
    "import plotly_express as px"
   ]
  },
  {
   "cell_type": "code",
   "execution_count": null,
   "metadata": {},
   "outputs": [],
   "source": [
    "df = pd.read_csv('../data/vehicles_us.csv')\n",
    "df['manufacturer'] = df['model'].apply(lambda x: x.split()[0])"
   ]
  },
  {
   "cell_type": "code",
   "execution_count": null,
   "metadata": {},
   "outputs": [],
   "source": [
    "# Make Header above dataframe\n",
    "sl.header('Data Viewer')\n",
    "# display df with streamlit\n",
    "sl.dataframe(df)"
   ]
  },
  {
   "cell_type": "code",
   "execution_count": null,
   "metadata": {},
   "outputs": [],
   "source": [
    "sl.header('Vehicle types by manufacturer')\n",
    "# make a  plotly histogram\n",
    "fig = px.histogram(df, x='manufacturer', color='type')\n",
    "# display with sl\n",
    "sl.write(fig)"
   ]
  },
  {
   "cell_type": "code",
   "execution_count": null,
   "metadata": {},
   "outputs": [],
   "source": [
    "sl.header('Histogram of `condition` vs `model_year')\n",
    "fig = px.histogram(df, x='model_year', color='condition')\n",
    "sl.write(fig)"
   ]
  },
  {
   "cell_type": "code",
   "execution_count": null,
   "metadata": {},
   "outputs": [],
   "source": [
    "sl.header('Compare price distribution between manufacturers')\n",
    "manufac_list = sorted(df['manufacturer'].unique())\n",
    "manufacturer_1 = sl.selectbox('Select manufacturer 1',\n",
    "                              manufac_list, index=manufac_list.index('chevrolet'))\n",
    "\n",
    "manufacturer_2 = sl.selectbox('Select manufacturer 2',\n",
    "                              manufac_list, index=manufac_list.index('hyundai'))\n",
    "\n",
    "\n",
    "mask_filter = (df['manufacturer'] == manufacturer_1) | (df['manufacturer'] == manufacturer_2)\n",
    "df_filtered = df[mask_filter]\n",
    "\n",
    "\n",
    "normalize = sl.checkbox('Normalize histogram', value=True)\n",
    "if normalize:\n",
    "    histnorm = 'percent'\n",
    "else:\n",
    "    histnorm = None\n",
    "\n",
    "fig = px.histogram(df_filtered,\n",
    "                      x='price',\n",
    "                      nbins=30,\n",
    "                      color='manufacturer',\n",
    "                      histnorm=histnorm,\n",
    "                      barmode='overlay')\n",
    "\n",
    "sl.write(fig)"
   ]
  }
 ],
 "metadata": {
  "kernelspec": {
   "display_name": "Python 3",
   "language": "python",
   "name": "python3"
  },
  "language_info": {
   "codemirror_mode": {
    "name": "ipython",
    "version": 3
   },
   "file_extension": ".py",
   "mimetype": "text/x-python",
   "name": "python",
   "nbconvert_exporter": "python",
   "pygments_lexer": "ipython3",
   "version": "3.10.4"
  },
  "orig_nbformat": 4
 },
 "nbformat": 4,
 "nbformat_minor": 2
}
