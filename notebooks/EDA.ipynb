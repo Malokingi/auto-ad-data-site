{
 "cells": [
  {
   "attachments": {},
   "cell_type": "markdown",
   "metadata": {},
   "source": [
    "# Car Sales Data Results\n",
    "\n",
    "### Table of Contents\n",
    "* [Package Imports](#imports)\n",
    "* [Data Preprocessing](#data_preprocessing)\n",
    "* [Testing Some Graphs](#graphs)"
   ]
  },
  {
   "attachments": {},
   "cell_type": "markdown",
   "metadata": {},
   "source": [
    "## Package Imports <a id='imports'></a>\n",
    "\n",
    "We import a few python packages for use in this project\n",
    "- streamlit\n",
    "    - for quickly and cleanly formatting the final webpage and handle its functionality\n",
    "- pandas\n",
    "    - for data processing and analytics\n",
    "- plotly_express\n",
    "    - to make graphs and charts for the user"
   ]
  },
  {
   "cell_type": "code",
   "execution_count": 1,
   "metadata": {},
   "outputs": [],
   "source": [
    "import streamlit as sl\n",
    "import pandas as pd\n",
    "import plotly_express as px"
   ]
  },
  {
   "attachments": {},
   "cell_type": "markdown",
   "metadata": {},
   "source": [
    "## Data Preprocessing <a id='data_preprocessing'></a>\n",
    "\n",
    "Now we clean up the data before going forward:\n",
    "1. Tidy up column names\n",
    "2. Decide what to do with missing values\n",
    "3. Handle Duplicates"
   ]
  },
  {
   "cell_type": "code",
   "execution_count": 2,
   "metadata": {},
   "outputs": [],
   "source": [
    "df = pd.read_csv('../data/raw_vehicles_us.csv')\n",
    "df['make'] = df['model'].apply(lambda x: x.split()[0])\n",
    "df['model'] = df['model'].apply(lambda x: ' '.join(x.split()[1:]))\n"
   ]
  },
  {
   "cell_type": "code",
   "execution_count": 3,
   "metadata": {},
   "outputs": [],
   "source": [
    "# renaming columns\n",
    "df = df.rename(columns={\n",
    "    'model_year': 'year',\n",
    "    'fuel': 'fuel_type',\n",
    "    'type': 'body',\n",
    "    'paint_color': 'exterior_color',\n",
    "    'is_4wd': '4_wheel_drive'\n",
    "})"
   ]
  },
  {
   "cell_type": "code",
   "execution_count": 4,
   "metadata": {},
   "outputs": [
    {
     "data": {
      "text/html": [
       "<div>\n",
       "<style scoped>\n",
       "    .dataframe tbody tr th:only-of-type {\n",
       "        vertical-align: middle;\n",
       "    }\n",
       "\n",
       "    .dataframe tbody tr th {\n",
       "        vertical-align: top;\n",
       "    }\n",
       "\n",
       "    .dataframe thead th {\n",
       "        text-align: right;\n",
       "    }\n",
       "</style>\n",
       "<table border=\"1\" class=\"dataframe\">\n",
       "  <thead>\n",
       "    <tr style=\"text-align: right;\">\n",
       "      <th></th>\n",
       "      <th>price</th>\n",
       "      <th>year</th>\n",
       "      <th>model</th>\n",
       "      <th>condition</th>\n",
       "      <th>cylinders</th>\n",
       "      <th>fuel_type</th>\n",
       "      <th>odometer</th>\n",
       "      <th>transmission</th>\n",
       "      <th>body</th>\n",
       "      <th>exterior_color</th>\n",
       "      <th>4_wheel_drive</th>\n",
       "      <th>date_posted</th>\n",
       "      <th>days_listed</th>\n",
       "      <th>make</th>\n",
       "    </tr>\n",
       "  </thead>\n",
       "  <tbody>\n",
       "    <tr>\n",
       "      <th>0</th>\n",
       "      <td>9400</td>\n",
       "      <td>2011.0</td>\n",
       "      <td>x5</td>\n",
       "      <td>good</td>\n",
       "      <td>6.0</td>\n",
       "      <td>gas</td>\n",
       "      <td>145000.0</td>\n",
       "      <td>automatic</td>\n",
       "      <td>SUV</td>\n",
       "      <td>NaN</td>\n",
       "      <td>1.0</td>\n",
       "      <td>2018-06-23</td>\n",
       "      <td>19</td>\n",
       "      <td>bmw</td>\n",
       "    </tr>\n",
       "    <tr>\n",
       "      <th>1</th>\n",
       "      <td>25500</td>\n",
       "      <td>NaN</td>\n",
       "      <td>f-150</td>\n",
       "      <td>good</td>\n",
       "      <td>6.0</td>\n",
       "      <td>gas</td>\n",
       "      <td>88705.0</td>\n",
       "      <td>automatic</td>\n",
       "      <td>pickup</td>\n",
       "      <td>white</td>\n",
       "      <td>1.0</td>\n",
       "      <td>2018-10-19</td>\n",
       "      <td>50</td>\n",
       "      <td>ford</td>\n",
       "    </tr>\n",
       "    <tr>\n",
       "      <th>2</th>\n",
       "      <td>5500</td>\n",
       "      <td>2013.0</td>\n",
       "      <td>sonata</td>\n",
       "      <td>like new</td>\n",
       "      <td>4.0</td>\n",
       "      <td>gas</td>\n",
       "      <td>110000.0</td>\n",
       "      <td>automatic</td>\n",
       "      <td>sedan</td>\n",
       "      <td>red</td>\n",
       "      <td>NaN</td>\n",
       "      <td>2019-02-07</td>\n",
       "      <td>79</td>\n",
       "      <td>hyundai</td>\n",
       "    </tr>\n",
       "    <tr>\n",
       "      <th>3</th>\n",
       "      <td>1500</td>\n",
       "      <td>2003.0</td>\n",
       "      <td>f-150</td>\n",
       "      <td>fair</td>\n",
       "      <td>8.0</td>\n",
       "      <td>gas</td>\n",
       "      <td>NaN</td>\n",
       "      <td>automatic</td>\n",
       "      <td>pickup</td>\n",
       "      <td>NaN</td>\n",
       "      <td>NaN</td>\n",
       "      <td>2019-03-22</td>\n",
       "      <td>9</td>\n",
       "      <td>ford</td>\n",
       "    </tr>\n",
       "    <tr>\n",
       "      <th>4</th>\n",
       "      <td>14900</td>\n",
       "      <td>2017.0</td>\n",
       "      <td>200</td>\n",
       "      <td>excellent</td>\n",
       "      <td>4.0</td>\n",
       "      <td>gas</td>\n",
       "      <td>80903.0</td>\n",
       "      <td>automatic</td>\n",
       "      <td>sedan</td>\n",
       "      <td>black</td>\n",
       "      <td>NaN</td>\n",
       "      <td>2019-04-02</td>\n",
       "      <td>28</td>\n",
       "      <td>chrysler</td>\n",
       "    </tr>\n",
       "    <tr>\n",
       "      <th>5</th>\n",
       "      <td>14990</td>\n",
       "      <td>2014.0</td>\n",
       "      <td>300</td>\n",
       "      <td>excellent</td>\n",
       "      <td>6.0</td>\n",
       "      <td>gas</td>\n",
       "      <td>57954.0</td>\n",
       "      <td>automatic</td>\n",
       "      <td>sedan</td>\n",
       "      <td>black</td>\n",
       "      <td>1.0</td>\n",
       "      <td>2018-06-20</td>\n",
       "      <td>15</td>\n",
       "      <td>chrysler</td>\n",
       "    </tr>\n",
       "    <tr>\n",
       "      <th>6</th>\n",
       "      <td>12990</td>\n",
       "      <td>2015.0</td>\n",
       "      <td>camry</td>\n",
       "      <td>excellent</td>\n",
       "      <td>4.0</td>\n",
       "      <td>gas</td>\n",
       "      <td>79212.0</td>\n",
       "      <td>automatic</td>\n",
       "      <td>sedan</td>\n",
       "      <td>white</td>\n",
       "      <td>NaN</td>\n",
       "      <td>2018-12-27</td>\n",
       "      <td>73</td>\n",
       "      <td>toyota</td>\n",
       "    </tr>\n",
       "    <tr>\n",
       "      <th>7</th>\n",
       "      <td>15990</td>\n",
       "      <td>2013.0</td>\n",
       "      <td>pilot</td>\n",
       "      <td>excellent</td>\n",
       "      <td>6.0</td>\n",
       "      <td>gas</td>\n",
       "      <td>109473.0</td>\n",
       "      <td>automatic</td>\n",
       "      <td>SUV</td>\n",
       "      <td>black</td>\n",
       "      <td>1.0</td>\n",
       "      <td>2019-01-07</td>\n",
       "      <td>68</td>\n",
       "      <td>honda</td>\n",
       "    </tr>\n",
       "    <tr>\n",
       "      <th>8</th>\n",
       "      <td>11500</td>\n",
       "      <td>2012.0</td>\n",
       "      <td>sorento</td>\n",
       "      <td>excellent</td>\n",
       "      <td>4.0</td>\n",
       "      <td>gas</td>\n",
       "      <td>104174.0</td>\n",
       "      <td>automatic</td>\n",
       "      <td>SUV</td>\n",
       "      <td>NaN</td>\n",
       "      <td>1.0</td>\n",
       "      <td>2018-07-16</td>\n",
       "      <td>19</td>\n",
       "      <td>kia</td>\n",
       "    </tr>\n",
       "    <tr>\n",
       "      <th>9</th>\n",
       "      <td>9200</td>\n",
       "      <td>2008.0</td>\n",
       "      <td>pilot</td>\n",
       "      <td>excellent</td>\n",
       "      <td>NaN</td>\n",
       "      <td>gas</td>\n",
       "      <td>147191.0</td>\n",
       "      <td>automatic</td>\n",
       "      <td>SUV</td>\n",
       "      <td>blue</td>\n",
       "      <td>1.0</td>\n",
       "      <td>2019-02-15</td>\n",
       "      <td>17</td>\n",
       "      <td>honda</td>\n",
       "    </tr>\n",
       "  </tbody>\n",
       "</table>\n",
       "</div>"
      ],
      "text/plain": [
       "   price    year    model  condition  cylinders fuel_type  odometer  \\\n",
       "0   9400  2011.0       x5       good        6.0       gas  145000.0   \n",
       "1  25500     NaN    f-150       good        6.0       gas   88705.0   \n",
       "2   5500  2013.0   sonata   like new        4.0       gas  110000.0   \n",
       "3   1500  2003.0    f-150       fair        8.0       gas       NaN   \n",
       "4  14900  2017.0      200  excellent        4.0       gas   80903.0   \n",
       "5  14990  2014.0      300  excellent        6.0       gas   57954.0   \n",
       "6  12990  2015.0    camry  excellent        4.0       gas   79212.0   \n",
       "7  15990  2013.0    pilot  excellent        6.0       gas  109473.0   \n",
       "8  11500  2012.0  sorento  excellent        4.0       gas  104174.0   \n",
       "9   9200  2008.0    pilot  excellent        NaN       gas  147191.0   \n",
       "\n",
       "  transmission    body exterior_color  4_wheel_drive date_posted  days_listed  \\\n",
       "0    automatic     SUV            NaN            1.0  2018-06-23           19   \n",
       "1    automatic  pickup          white            1.0  2018-10-19           50   \n",
       "2    automatic   sedan            red            NaN  2019-02-07           79   \n",
       "3    automatic  pickup            NaN            NaN  2019-03-22            9   \n",
       "4    automatic   sedan          black            NaN  2019-04-02           28   \n",
       "5    automatic   sedan          black            1.0  2018-06-20           15   \n",
       "6    automatic   sedan          white            NaN  2018-12-27           73   \n",
       "7    automatic     SUV          black            1.0  2019-01-07           68   \n",
       "8    automatic     SUV            NaN            1.0  2018-07-16           19   \n",
       "9    automatic     SUV           blue            1.0  2019-02-15           17   \n",
       "\n",
       "       make  \n",
       "0       bmw  \n",
       "1      ford  \n",
       "2   hyundai  \n",
       "3      ford  \n",
       "4  chrysler  \n",
       "5  chrysler  \n",
       "6    toyota  \n",
       "7     honda  \n",
       "8       kia  \n",
       "9     honda  "
      ]
     },
     "execution_count": 4,
     "metadata": {},
     "output_type": "execute_result"
    }
   ],
   "source": [
    "df.head(10)"
   ]
  },
  {
   "cell_type": "code",
   "execution_count": 5,
   "metadata": {},
   "outputs": [
    {
     "data": {
      "text/plain": [
       "Index(['price', 'year', 'model', 'condition', 'cylinders', 'fuel_type',\n",
       "       'odometer', 'transmission', 'body', 'exterior_color', '4_wheel_drive',\n",
       "       'date_posted', 'days_listed', 'make'],\n",
       "      dtype='object')"
      ]
     },
     "execution_count": 5,
     "metadata": {},
     "output_type": "execute_result"
    }
   ],
   "source": [
    "df.columns"
   ]
  },
  {
   "cell_type": "code",
   "execution_count": 6,
   "metadata": {},
   "outputs": [
    {
     "data": {
      "text/plain": [
       "price                 0\n",
       "year               3619\n",
       "model                 0\n",
       "condition             0\n",
       "cylinders          5260\n",
       "fuel_type             0\n",
       "odometer           7892\n",
       "transmission          0\n",
       "body                  0\n",
       "exterior_color     9267\n",
       "4_wheel_drive     25953\n",
       "date_posted           0\n",
       "days_listed           0\n",
       "make                  0\n",
       "dtype: int64"
      ]
     },
     "execution_count": 6,
     "metadata": {},
     "output_type": "execute_result"
    }
   ],
   "source": [
    "df.isna().sum()"
   ]
  },
  {
   "cell_type": "code",
   "execution_count": 7,
   "metadata": {},
   "outputs": [],
   "source": [
    "# looping over column names and replacing missing values with 'unknown'\n",
    "col_to_replace = ['year', 'cylinders', 'odometer', 'exterior_color', '4_wheel_drive']\n",
    "for col in col_to_replace:\n",
    "    df[col] = df[col].fillna('__unknown__') # I added some '__' to make this special value stand out"
   ]
  },
  {
   "cell_type": "code",
   "execution_count": 8,
   "metadata": {},
   "outputs": [
    {
     "data": {
      "text/plain": [
       "0"
      ]
     },
     "execution_count": 8,
     "metadata": {},
     "output_type": "execute_result"
    }
   ],
   "source": [
    "# counting clear duplicates\n",
    "df.duplicated().sum()"
   ]
  },
  {
   "cell_type": "code",
   "execution_count": 9,
   "metadata": {},
   "outputs": [
    {
     "data": {
      "text/plain": [
       "array(['1500', '200', '2500', '300', '3500', '4runner', 'acadia',\n",
       "       'accord', 'altima', 'benze sprinter 2500', 'camaro',\n",
       "       'camaro lt coupe 2d', 'camry', 'camry le', 'charger', 'cherokee',\n",
       "       'civic', 'civic lx', 'colorado', 'corolla', 'corvette', 'cr-v',\n",
       "       'cruze', 'dakota', 'econoline', 'edge', 'elantra', 'enclave',\n",
       "       'equinox', 'escalade', 'escape', 'expedition', 'explorer', 'f-150',\n",
       "       'f-250', 'f-250 sd', 'f-250 super duty', 'f-350 sd', 'f150',\n",
       "       'f150 supercrew cab xlt', 'f250', 'f250 super duty', 'f350',\n",
       "       'f350 super duty', 'focus', 'focus se', 'forester', 'frontier',\n",
       "       'frontier crew cab sv', 'fusion', 'fusion se', 'grand caravan',\n",
       "       'grand cherokee', 'grand cherokee laredo', 'highlander', 'impala',\n",
       "       'impreza', 'jetta', 'liberty', 'malibu', 'maxima', 'murano',\n",
       "       'mustang', 'mustang gt coupe 2d', 'odyssey', 'outback', 'passat',\n",
       "       'pilot', 'prius', 'ranger', 'rav4', 'rogue', 'santa fe', 'sentra',\n",
       "       'sienna', 'sierra', 'sierra 1500', 'sierra 2500hd', 'silverado',\n",
       "       'silverado 1500', 'silverado 1500 crew', 'silverado 2500hd',\n",
       "       'silverado 3500hd', 'sonata', 'sorento', 'soul', 'suburban',\n",
       "       'tacoma', 'tahoe', 'taurus', 'tl', 'town & country', 'trailblazer',\n",
       "       'traverse', 'tundra', 'versa', 'wrangler', 'wrangler unlimited',\n",
       "       'x5', 'yukon'], dtype=object)"
      ]
     },
     "execution_count": 9,
     "metadata": {},
     "output_type": "execute_result"
    }
   ],
   "source": [
    "# viewing unique values\n",
    "df['model'].sort_values().unique()"
   ]
  },
  {
   "cell_type": "code",
   "execution_count": 10,
   "metadata": {},
   "outputs": [],
   "source": [
    "def replace_wrong_values(col_name, wrong, correct):\n",
    "    for w in wrong:\n",
    "        df[col_name] = df[col_name].replace(w, correct)"
   ]
  },
  {
   "cell_type": "code",
   "execution_count": 11,
   "metadata": {},
   "outputs": [
    {
     "data": {
      "text/plain": [
       "array(['1500', '200', '2500', '300', '3500', '4runner', 'acadia',\n",
       "       'accord', 'altima', 'benze sprinter 2500', 'camaro',\n",
       "       'camaro lt coupe 2d', 'camry', 'camry le', 'charger', 'cherokee',\n",
       "       'civic', 'civic lx', 'colorado', 'corolla', 'corvette', 'cr-v',\n",
       "       'cruze', 'dakota', 'econoline', 'edge', 'elantra', 'enclave',\n",
       "       'equinox', 'escalade', 'escape', 'expedition', 'explorer', 'f-150',\n",
       "       'f-150 supercrew cab xlt', 'f-250', 'f-250 sd', 'f-350',\n",
       "       'f-350 sd', 'focus', 'focus se', 'forester', 'frontier',\n",
       "       'frontier crew cab sv', 'fusion', 'fusion se', 'grand caravan',\n",
       "       'grand cherokee', 'grand cherokee laredo', 'highlander', 'impala',\n",
       "       'impreza', 'jetta', 'liberty', 'malibu', 'maxima', 'murano',\n",
       "       'mustang', 'mustang gt coupe 2d', 'odyssey', 'outback', 'passat',\n",
       "       'pilot', 'prius', 'ranger', 'rav4', 'rogue', 'santa fe', 'sentra',\n",
       "       'sienna', 'sierra', 'sierra 1500', 'sierra 2500hd', 'silverado',\n",
       "       'silverado 1500', 'silverado 1500 crew', 'silverado 2500hd',\n",
       "       'silverado 3500hd', 'sonata', 'sorento', 'soul', 'suburban',\n",
       "       'tacoma', 'tahoe', 'taurus', 'tl', 'town & country', 'trailblazer',\n",
       "       'traverse', 'tundra', 'versa', 'wrangler', 'wrangler unlimited',\n",
       "       'x5', 'yukon'], dtype=object)"
      ]
     },
     "execution_count": 11,
     "metadata": {},
     "output_type": "execute_result"
    }
   ],
   "source": [
    "corrections = [\n",
    "    ['model', ['f150'], 'f-150'],\n",
    "    ['model', ['f250'], 'f-250'],\n",
    "    ['model', ['f-250 super duty', 'f250 super duty'], 'f-250 sd'],\n",
    "    ['model', ['f350'], 'f-350'],\n",
    "    ['model', ['f350 super duty'], 'f-350 sd'],\n",
    "    ['model', ['f150 supercrew cab xlt'], 'f-150 supercrew cab xlt']\n",
    "]\n",
    "\n",
    "for c in corrections:\n",
    "    replace_wrong_values(c[0], c[1], c[2])\n",
    "\n",
    "df['model'].sort_values().unique()"
   ]
  },
  {
   "cell_type": "code",
   "execution_count": 12,
   "metadata": {},
   "outputs": [],
   "source": [
    "df.to_csv('../data/processed_vehicles_us.csv', index=False)"
   ]
  }
 ],
 "metadata": {
  "kernelspec": {
   "display_name": "Python 3",
   "language": "python",
   "name": "python3"
  },
  "language_info": {
   "codemirror_mode": {
    "name": "ipython",
    "version": 3
   },
   "file_extension": ".py",
   "mimetype": "text/x-python",
   "name": "python",
   "nbconvert_exporter": "python",
   "pygments_lexer": "ipython3",
   "version": "3.10.4"
  },
  "orig_nbformat": 4
 },
 "nbformat": 4,
 "nbformat_minor": 2
}
